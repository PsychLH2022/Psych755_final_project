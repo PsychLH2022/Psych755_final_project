{
 "cells": [
  {
   "cell_type": "markdown",
   "id": "07d89dce-33fc-4143-800b-fa5edcb13ed0",
   "metadata": {},
   "source": [
    "# Introduction"
   ]
  },
  {
   "cell_type": "markdown",
   "id": "04c66f6f-3522-4f31-92cb-355a42f9acae",
   "metadata": {},
   "source": [
    "This notebook shows more examples of using our project's database (caption group)."
   ]
  },
  {
   "cell_type": "markdown",
   "id": "a4d06398-0ada-490c-8d2d-1d35be06eadb",
   "metadata": {},
   "source": [
    "We have using AMS relational database service(RDS) to create our database, which solves the problem caused by the laptop's physical movement and provides us a fixed IP address."
   ]
  },
  {
   "cell_type": "markdown",
   "id": "8ed05cf7-0bad-491b-a146-65d458389ff8",
   "metadata": {},
   "source": [
    "## Connect to the database"
   ]
  },
  {
   "cell_type": "markdown",
   "id": "d742ea7b",
   "metadata": {},
   "source": [
    "Note: Before running, please open terminal and install the *mysql-connector* package: ***pip3 install mysql-connector***"
   ]
  },
  {
   "cell_type": "code",
   "execution_count": 35,
   "id": "14bf07eb",
   "metadata": {},
   "outputs": [
    {
     "name": "stdout",
     "output_type": "stream",
     "text": [
      "Connected to MySQL Server version 8.0.33\n"
     ]
    }
   ],
   "source": [
    "import mysql.connector\n",
    "from mysql.connector import Error\n",
    "import re\n",
    "import pandas as pd\n",
    "pd.set_option('display.max_colwidth', None)\n",
    "\n",
    "try:\n",
    "    connection = mysql.connector.connect(host='dbnewyorkcartoon.cgyqzvdc98df.us-east-2.rds.amazonaws.com',\n",
    "                                         user='dbuser',\n",
    "                                         password='Sql123456')\n",
    "    if connection.is_connected():\n",
    "        db_Info = connection.get_server_info()\n",
    "        print(\"Connected to MySQL Server version\", db_Info)\n",
    "        cursor = connection.cursor()   # a neccessary statement for SQL operations while connecting by third tools\n",
    "except Error as e:\n",
    "    print(\"Error while connecting to MySQL\", e)"
   ]
  },
  {
   "cell_type": "markdown",
   "id": "45ae64ef",
   "metadata": {},
   "source": [
    "## Some common operational statements"
   ]
  },
  {
   "cell_type": "markdown",
   "id": "98ecc784",
   "metadata": {},
   "source": [
    "### show databases(schemas)"
   ]
  },
  {
   "cell_type": "code",
   "execution_count": 14,
   "id": "fdea6f05",
   "metadata": {},
   "outputs": [
    {
     "name": "stdout",
     "output_type": "stream",
     "text": [
      "information_schema\n",
      "new_york_cartoon\n",
      "performance_schema\n"
     ]
    }
   ],
   "source": [
    "op = \"show databases;\"\n",
    "cursor.execute(op)\n",
    "record = cursor.fetchall()   # fetch all results\n",
    "for i in range(0, len(record)):\n",
    "    print(record[i][0].decode(\"utf-8\"))   # convert bytes to string"
   ]
  },
  {
   "cell_type": "markdown",
   "id": "c6236f96",
   "metadata": {},
   "source": [
    "### **select the database you want to operate (!!! necessary to run for any following chunk)**"
   ]
  },
  {
   "cell_type": "code",
   "execution_count": 36,
   "id": "a75a44ff",
   "metadata": {},
   "outputs": [],
   "source": [
    "op = \"use new_york_cartoon;\"\n",
    "cursor.execute(op)   # select the 'new_york_cartoon' database"
   ]
  },
  {
   "cell_type": "markdown",
   "id": "6b1aee62",
   "metadata": {},
   "source": [
    "### show the current database"
   ]
  },
  {
   "cell_type": "code",
   "execution_count": 17,
   "id": "ad5558a2",
   "metadata": {},
   "outputs": [
    {
     "name": "stdout",
     "output_type": "stream",
     "text": [
      "The current database:  new_york_cartoon\n"
     ]
    }
   ],
   "source": [
    "op = \"select database();\"\n",
    "cursor.execute(op)\n",
    "record = cursor.fetchall()\n",
    "print(\"The current database: \", record[0][0])"
   ]
  },
  {
   "cell_type": "markdown",
   "id": "ed148236",
   "metadata": {},
   "source": [
    "### show tables of the current database"
   ]
  },
  {
   "cell_type": "code",
   "execution_count": 18,
   "id": "28adcc62",
   "metadata": {},
   "outputs": [
    {
     "name": "stdout",
     "output_type": "stream",
     "text": [
      "base\n",
      "explanation\n",
      "explanation_from_pixels\n",
      "matching\n",
      "matching_from_pixels\n",
      "ranking\n",
      "ranking_from_pixels\n",
      "result\n"
     ]
    }
   ],
   "source": [
    "op = \"show tables;\"\n",
    "cursor.execute(op)\n",
    "tables = cursor.fetchall()\n",
    "for i in range(0, len(tables)):\n",
    "    print(tables[i][0].decode(\"utf-8\"))"
   ]
  },
  {
   "cell_type": "markdown",
   "id": "8ba7b33c",
   "metadata": {},
   "source": [
    "### show attributes of one table"
   ]
  },
  {
   "cell_type": "code",
   "execution_count": 19,
   "id": "6c790ca8",
   "metadata": {},
   "outputs": [
    {
     "name": "stdout",
     "output_type": "stream",
     "text": [
      "result_id\n",
      "caption\n",
      "ranking\n",
      "mean\n",
      "prec\n",
      "votes\n",
      "not_funny\n",
      "somewhat_funny\n",
      "funny\n",
      "contest_num\n"
     ]
    }
   ],
   "source": [
    "op = \"select * from result where result_id=1;\"\n",
    "cursor.execute(op)\n",
    "record = cursor.fetchall()\n",
    "desc = cursor.description\n",
    "for i in range(0, len(desc)):\n",
    "    print(desc[i][0])"
   ]
  },
  {
   "cell_type": "markdown",
   "id": "60da6960",
   "metadata": {},
   "source": [
    "### show the comment of one attribute"
   ]
  },
  {
   "cell_type": "code",
   "execution_count": 20,
   "id": "a1a736e0",
   "metadata": {},
   "outputs": [
    {
     "name": "stdout",
     "output_type": "stream",
     "text": [
      "result_id: result id\n",
      "caption: \n",
      "ranking: the ranking of a caption\n",
      "mean: the score of a caption\n",
      "prec: precision - the standard error of the mean\n",
      "votes: total votes\n",
      "not_funny: unfunny votes\n",
      "somewhat_funny: somewhat funny votes\n",
      "funny: funny votes\n",
      "contest_num: contest number\n"
     ]
    }
   ],
   "source": [
    "op = \"select column_name,column_comment\\\n",
    "         from information_schema.columns\\\n",
    "         where table_schema = 'new_york_cartoon' and table_name = 'result';\"\n",
    "cursor.execute(op)\n",
    "record = cursor.fetchall()\n",
    "for i in range(0, len(record)):\n",
    "    print(record[i][0] + \": \" + record[i][1].decode('utf-8'))\n",
    "    \n",
    "# If there is a attribute without comment, it will show nothing. And typically, the attribute name is its meaning."
   ]
  },
  {
   "cell_type": "markdown",
   "id": "4075eb42-15ca-4437-81d4-c5088e0a2a7c",
   "metadata": {},
   "source": [
    "### some examples of data query languages(DQL)"
   ]
  },
  {
   "cell_type": "markdown",
   "id": "025df38c-9c7d-4cb6-b4e0-804e9d4106f1",
   "metadata": {},
   "source": [
    "**1. select [column names] from [table names] where [conditions: (>, <, =, >=, <=, <>, !=)]**"
   ]
  },
  {
   "cell_type": "code",
   "execution_count": 23,
   "id": "67902691-d319-4d9f-a101-823ec91525ba",
   "metadata": {},
   "outputs": [
    {
     "name": "stdout",
     "output_type": "stream",
     "text": [
      "Total number of rows in table:  5554\n"
     ]
    },
    {
     "data": {
      "text/html": [
       "<div>\n",
       "<style scoped>\n",
       "    .dataframe tbody tr th:only-of-type {\n",
       "        vertical-align: middle;\n",
       "    }\n",
       "\n",
       "    .dataframe tbody tr th {\n",
       "        vertical-align: top;\n",
       "    }\n",
       "\n",
       "    .dataframe thead th {\n",
       "        text-align: right;\n",
       "    }\n",
       "</style>\n",
       "<table border=\"1\" class=\"dataframe\">\n",
       "  <thead>\n",
       "    <tr style=\"text-align: right;\">\n",
       "      <th></th>\n",
       "      <th>caption</th>\n",
       "      <th>ranking</th>\n",
       "    </tr>\n",
       "  </thead>\n",
       "  <tbody>\n",
       "    <tr>\n",
       "      <th>0</th>\n",
       "      <td>When I asked you to line up a meeting with the Department Chairs, this is not what I meant.</td>\n",
       "      <td>0</td>\n",
       "    </tr>\n",
       "    <tr>\n",
       "      <th>1</th>\n",
       "      <td>Are you willing to relocate?</td>\n",
       "      <td>1</td>\n",
       "    </tr>\n",
       "    <tr>\n",
       "      <th>2</th>\n",
       "      <td>Where do you see yourself five chairs from now?</td>\n",
       "      <td>2</td>\n",
       "    </tr>\n",
       "    <tr>\n",
       "      <th>3</th>\n",
       "      <td>Actually, we were looking for someone a bit more aggressive.</td>\n",
       "      <td>3</td>\n",
       "    </tr>\n",
       "    <tr>\n",
       "      <th>4</th>\n",
       "      <td>At one point I had them in a semicircle, but it gave people a sense of equality.</td>\n",
       "      <td>4</td>\n",
       "    </tr>\n",
       "    <tr>\n",
       "      <th>...</th>\n",
       "      <td>...</td>\n",
       "      <td>...</td>\n",
       "    </tr>\n",
       "    <tr>\n",
       "      <th>5549</th>\n",
       "      <td>Only 4 more years until you get to move one chair closer to the boss. And they said upward mobility was stagnant (scoffs).</td>\n",
       "      <td>5549</td>\n",
       "    </tr>\n",
       "    <tr>\n",
       "      <th>5550</th>\n",
       "      <td>Dave arrives early to visualize whisper down the lane board meeting.</td>\n",
       "      <td>5550</td>\n",
       "    </tr>\n",
       "    <tr>\n",
       "      <th>5551</th>\n",
       "      <td>Keep your\"hands and mouth \"off</td>\n",
       "      <td>5551</td>\n",
       "    </tr>\n",
       "    <tr>\n",
       "      <th>5552</th>\n",
       "      <td>Who ever said serfdom was blue collar?</td>\n",
       "      <td>5552</td>\n",
       "    </tr>\n",
       "    <tr>\n",
       "      <th>5553</th>\n",
       "      <td>I know it's Day of the Dead, but aren't humans more important than ghosts?</td>\n",
       "      <td>5553</td>\n",
       "    </tr>\n",
       "  </tbody>\n",
       "</table>\n",
       "<p>5554 rows × 2 columns</p>\n",
       "</div>"
      ],
      "text/plain": [
       "                                                                                                                         caption  \\\n",
       "0                                    When I asked you to line up a meeting with the Department Chairs, this is not what I meant.   \n",
       "1                                                                                                   Are you willing to relocate?   \n",
       "2                                                                                Where do you see yourself five chairs from now?   \n",
       "3                                                                   Actually, we were looking for someone a bit more aggressive.   \n",
       "4                                               At one point I had them in a semicircle, but it gave people a sense of equality.   \n",
       "...                                                                                                                          ...   \n",
       "5549  Only 4 more years until you get to move one chair closer to the boss. And they said upward mobility was stagnant (scoffs).   \n",
       "5550                                                        Dave arrives early to visualize whisper down the lane board meeting.   \n",
       "5551                                                                                              Keep your\"hands and mouth \"off   \n",
       "5552                                                                                      Who ever said serfdom was blue collar?   \n",
       "5553                                                  I know it's Day of the Dead, but aren't humans more important than ghosts?   \n",
       "\n",
       "      ranking  \n",
       "0           0  \n",
       "1           1  \n",
       "2           2  \n",
       "3           3  \n",
       "4           4  \n",
       "...       ...  \n",
       "5549     5549  \n",
       "5550     5550  \n",
       "5551     5551  \n",
       "5552     5552  \n",
       "5553     5553  \n",
       "\n",
       "[5554 rows x 2 columns]"
      ]
     },
     "execution_count": 23,
     "metadata": {},
     "output_type": "execute_result"
    }
   ],
   "source": [
    "# gain 'caption' and 'ranking' data of contest whose numbers is 550\n",
    "query = \"select caption,ranking from result where contest_num=550;\"\n",
    "cursor.execute(query)\n",
    "record = cursor.fetchall()\n",
    "attr_names = [i[0] for i in cursor.description]\n",
    "print(\"Total number of rows in table: \", cursor.rowcount)\n",
    "df = pd.DataFrame(record, columns=attr_names)\n",
    "df"
   ]
  },
  {
   "cell_type": "markdown",
   "id": "d8244c51-5738-4135-9bef-4345b1f060f0",
   "metadata": {},
   "source": [
    "**2. select [column names] from [table names] where [conditions: (in(...), between...and...)]** \\\n",
    "&nbsp;&nbsp;&nbsp;&nbsp;The 'in(...)' and 'between...and...' commands allows you to specify multiple values in a WHERE clause."
   ]
  },
  {
   "cell_type": "code",
   "execution_count": 37,
   "id": "d8287c5a-7dce-49b5-b5cf-2b74601b58f3",
   "metadata": {},
   "outputs": [
    {
     "name": "stdout",
     "output_type": "stream",
     "text": [
      "Total number of rows in table:  15834\n"
     ]
    },
    {
     "data": {
      "text/html": [
       "<div>\n",
       "<style scoped>\n",
       "    .dataframe tbody tr th:only-of-type {\n",
       "        vertical-align: middle;\n",
       "    }\n",
       "\n",
       "    .dataframe tbody tr th {\n",
       "        vertical-align: top;\n",
       "    }\n",
       "\n",
       "    .dataframe thead th {\n",
       "        text-align: right;\n",
       "    }\n",
       "</style>\n",
       "<table border=\"1\" class=\"dataframe\">\n",
       "  <thead>\n",
       "    <tr style=\"text-align: right;\">\n",
       "      <th></th>\n",
       "      <th>caption</th>\n",
       "      <th>ranking</th>\n",
       "    </tr>\n",
       "  </thead>\n",
       "  <tbody>\n",
       "    <tr>\n",
       "      <th>0</th>\n",
       "      <td>When I asked you to line up a meeting with the Department Chairs, this is not what I meant.</td>\n",
       "      <td>0</td>\n",
       "    </tr>\n",
       "    <tr>\n",
       "      <th>1</th>\n",
       "      <td>Are you willing to relocate?</td>\n",
       "      <td>1</td>\n",
       "    </tr>\n",
       "    <tr>\n",
       "      <th>2</th>\n",
       "      <td>Where do you see yourself five chairs from now?</td>\n",
       "      <td>2</td>\n",
       "    </tr>\n",
       "    <tr>\n",
       "      <th>3</th>\n",
       "      <td>Actually, we were looking for someone a bit more aggressive.</td>\n",
       "      <td>3</td>\n",
       "    </tr>\n",
       "    <tr>\n",
       "      <th>4</th>\n",
       "      <td>At one point I had them in a semicircle, but it gave people a sense of equality.</td>\n",
       "      <td>4</td>\n",
       "    </tr>\n",
       "    <tr>\n",
       "      <th>...</th>\n",
       "      <td>...</td>\n",
       "      <td>...</td>\n",
       "    </tr>\n",
       "    <tr>\n",
       "      <th>15829</th>\n",
       "      <td>Say, you look familiar. How long have you had vehicle?</td>\n",
       "      <td>5432</td>\n",
       "    </tr>\n",
       "    <tr>\n",
       "      <th>15830</th>\n",
       "      <td>let me chuch your bengis</td>\n",
       "      <td>5433</td>\n",
       "    </tr>\n",
       "    <tr>\n",
       "      <th>15831</th>\n",
       "      <td>No news is good news.</td>\n",
       "      <td>5434</td>\n",
       "    </tr>\n",
       "    <tr>\n",
       "      <th>15832</th>\n",
       "      <td>begone....... thot</td>\n",
       "      <td>5435</td>\n",
       "    </tr>\n",
       "    <tr>\n",
       "      <th>15833</th>\n",
       "      <td>I didn't know SHE was coming?</td>\n",
       "      <td>5436</td>\n",
       "    </tr>\n",
       "  </tbody>\n",
       "</table>\n",
       "<p>15834 rows × 2 columns</p>\n",
       "</div>"
      ],
      "text/plain": [
       "                                                                                           caption  \\\n",
       "0      When I asked you to line up a meeting with the Department Chairs, this is not what I meant.   \n",
       "1                                                                     Are you willing to relocate?   \n",
       "2                                                  Where do you see yourself five chairs from now?   \n",
       "3                                     Actually, we were looking for someone a bit more aggressive.   \n",
       "4                 At one point I had them in a semicircle, but it gave people a sense of equality.   \n",
       "...                                                                                            ...   \n",
       "15829                                       Say, you look familiar. How long have you had vehicle?   \n",
       "15830                                                                     let me chuch your bengis   \n",
       "15831                                                                        No news is good news.   \n",
       "15832                                                                           begone....... thot   \n",
       "15833                                                                I didn't know SHE was coming?   \n",
       "\n",
       "       ranking  \n",
       "0            0  \n",
       "1            1  \n",
       "2            2  \n",
       "3            3  \n",
       "4            4  \n",
       "...        ...  \n",
       "15829     5432  \n",
       "15830     5433  \n",
       "15831     5434  \n",
       "15832     5435  \n",
       "15833     5436  \n",
       "\n",
       "[15834 rows x 2 columns]"
      ]
     },
     "execution_count": 37,
     "metadata": {},
     "output_type": "execute_result"
    }
   ],
   "source": [
    "# gain 'caption' and 'ranking' data of contests whose numbers are 550, 551 and 552\n",
    "query_1 = \"select caption,ranking from result where contest_num in (550, 551, 552);\"\n",
    "query_2 = \"select caption,ranking from result where contest_num between 550 and 552;\"   # equal to query_1\n",
    "cursor.execute(query_1)\n",
    "record = cursor.fetchall()\n",
    "attr_names = [i[0] for i in cursor.description]\n",
    "print(\"Total number of rows in table: \", cursor.rowcount)\n",
    "df = pd.DataFrame(record, columns=attr_names)\n",
    "df"
   ]
  },
  {
   "cell_type": "markdown",
   "id": "6c10bc5b-ba17-4ac7-8364-7ef82ef8904c",
   "metadata": {},
   "source": [
    "**3. select [column names] from [table names] where [conditions: like]** \\\n",
    "&nbsp;&nbsp;&nbsp;&nbsp;The LIKE command is used in a WHERE clause to search for a specified pattern in a column.\n",
    "- '%' represents zero, one, or multiple characters\n",
    "- '_' represents a single character"
   ]
  },
  {
   "cell_type": "code",
   "execution_count": 38,
   "id": "631245de-b963-4fce-bb1a-492efa220ba5",
   "metadata": {},
   "outputs": [
    {
     "name": "stdout",
     "output_type": "stream",
     "text": [
      "Total number of rows in table:  57189\n"
     ]
    },
    {
     "data": {
      "text/html": [
       "<div>\n",
       "<style scoped>\n",
       "    .dataframe tbody tr th:only-of-type {\n",
       "        vertical-align: middle;\n",
       "    }\n",
       "\n",
       "    .dataframe tbody tr th {\n",
       "        vertical-align: top;\n",
       "    }\n",
       "\n",
       "    .dataframe thead th {\n",
       "        text-align: right;\n",
       "    }\n",
       "</style>\n",
       "<table border=\"1\" class=\"dataframe\">\n",
       "  <thead>\n",
       "    <tr style=\"text-align: right;\">\n",
       "      <th></th>\n",
       "      <th>caption</th>\n",
       "      <th>ranking</th>\n",
       "    </tr>\n",
       "  </thead>\n",
       "  <tbody>\n",
       "    <tr>\n",
       "      <th>0</th>\n",
       "      <td>When I asked you to line up a meeting with the Department Chairs, this is not what I meant.</td>\n",
       "      <td>0</td>\n",
       "    </tr>\n",
       "    <tr>\n",
       "      <th>1</th>\n",
       "      <td>Are you willing to relocate?</td>\n",
       "      <td>1</td>\n",
       "    </tr>\n",
       "    <tr>\n",
       "      <th>2</th>\n",
       "      <td>Where do you see yourself five chairs from now?</td>\n",
       "      <td>2</td>\n",
       "    </tr>\n",
       "    <tr>\n",
       "      <th>3</th>\n",
       "      <td>Actually, we were looking for someone a bit more aggressive.</td>\n",
       "      <td>3</td>\n",
       "    </tr>\n",
       "    <tr>\n",
       "      <th>4</th>\n",
       "      <td>At one point I had them in a semicircle, but it gave people a sense of equality.</td>\n",
       "      <td>4</td>\n",
       "    </tr>\n",
       "    <tr>\n",
       "      <th>...</th>\n",
       "      <td>...</td>\n",
       "      <td>...</td>\n",
       "    </tr>\n",
       "    <tr>\n",
       "      <th>57184</th>\n",
       "      <td>History will now record that only rarely did we make prisoners walk the plank.</td>\n",
       "      <td>5007</td>\n",
       "    </tr>\n",
       "    <tr>\n",
       "      <th>57185</th>\n",
       "      <td>Shiver me timbers, it must be Jesus!</td>\n",
       "      <td>5008</td>\n",
       "    </tr>\n",
       "    <tr>\n",
       "      <th>57186</th>\n",
       "      <td>O Captain! Don't Die Captain!</td>\n",
       "      <td>5009</td>\n",
       "    </tr>\n",
       "    <tr>\n",
       "      <th>57187</th>\n",
       "      <td>I will order a swan dive. I will not order my men to snort cocaine offa Frank's frank.</td>\n",
       "      <td>5010</td>\n",
       "    </tr>\n",
       "    <tr>\n",
       "      <th>57188</th>\n",
       "      <td>Avast showboating!</td>\n",
       "      <td>5011</td>\n",
       "    </tr>\n",
       "  </tbody>\n",
       "</table>\n",
       "<p>57189 rows × 2 columns</p>\n",
       "</div>"
      ],
      "text/plain": [
       "                                                                                           caption  \\\n",
       "0      When I asked you to line up a meeting with the Department Chairs, this is not what I meant.   \n",
       "1                                                                     Are you willing to relocate?   \n",
       "2                                                  Where do you see yourself five chairs from now?   \n",
       "3                                     Actually, we were looking for someone a bit more aggressive.   \n",
       "4                 At one point I had them in a semicircle, but it gave people a sense of equality.   \n",
       "...                                                                                            ...   \n",
       "57184               History will now record that only rarely did we make prisoners walk the plank.   \n",
       "57185                                                         Shiver me timbers, it must be Jesus!   \n",
       "57186                                                                O Captain! Don't Die Captain!   \n",
       "57187       I will order a swan dive. I will not order my men to snort cocaine offa Frank's frank.   \n",
       "57188                                                                           Avast showboating!   \n",
       "\n",
       "       ranking  \n",
       "0            0  \n",
       "1            1  \n",
       "2            2  \n",
       "3            3  \n",
       "4            4  \n",
       "...        ...  \n",
       "57184     5007  \n",
       "57185     5008  \n",
       "57186     5009  \n",
       "57187     5010  \n",
       "57188     5011  \n",
       "\n",
       "[57189 rows x 2 columns]"
      ]
     },
     "execution_count": 38,
     "metadata": {},
     "output_type": "execute_result"
    }
   ],
   "source": [
    "# gain 'caption' and 'ranking' data of the contest whose number is like '55_'.\n",
    "query = \"select caption,ranking from result where contest_num like '55_';\"\n",
    "cursor.execute(query)\n",
    "record = cursor.fetchall()\n",
    "attr_names = [i[0] for i in cursor.description]\n",
    "print(\"Total number of rows in table: \", cursor.rowcount)\n",
    "df = pd.DataFrame(record, columns=attr_names)\n",
    "df"
   ]
  },
  {
   "cell_type": "markdown",
   "id": "d8e641ff",
   "metadata": {},
   "source": [
    "## Close the connection"
   ]
  },
  {
   "cell_type": "code",
   "execution_count": 40,
   "id": "ea091139",
   "metadata": {},
   "outputs": [
    {
     "name": "stdout",
     "output_type": "stream",
     "text": [
      "MySQL connection has been closed.\n"
     ]
    }
   ],
   "source": [
    "if connection.is_connected():\n",
    "    cursor.close()\n",
    "    connection.close()\n",
    "    print(\"MySQL connection is closed.\")\n",
    "else:\n",
    "    print(\"MySQL connection has been closed.\")"
   ]
  },
  {
   "cell_type": "markdown",
   "id": "49aab665-62c2-47a6-b3fd-c4d857baf956",
   "metadata": {},
   "source": [
    "..."
   ]
  }
 ],
 "metadata": {
  "kernelspec": {
   "display_name": "Python 3 (ipykernel)",
   "language": "python",
   "name": "python3"
  },
  "language_info": {
   "codemirror_mode": {
    "name": "ipython",
    "version": 3
   },
   "file_extension": ".py",
   "mimetype": "text/x-python",
   "name": "python",
   "nbconvert_exporter": "python",
   "pygments_lexer": "ipython3",
   "version": "3.10.11"
  }
 },
 "nbformat": 4,
 "nbformat_minor": 5
}
